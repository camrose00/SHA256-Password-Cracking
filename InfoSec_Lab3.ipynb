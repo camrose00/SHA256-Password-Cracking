{
 "cells": [
  {
   "cell_type": "markdown",
   "id": "be242fae-1682-487b-8dcf-872fc9a46888",
   "metadata": {
    "tags": []
   },
   "source": [
    "# <b> SHA-256 Password Cracking Algorithms</b>\n",
    "Cameron Rosenberger <br>\n",
    "CS 3339 <br>\n",
    "March 23, 2023"
   ]
  },
  {
   "cell_type": "markdown",
   "id": "ca28c6ee-f7df-43fb-9589-2968ec2f5078",
   "metadata": {
    "tags": []
   },
   "source": [
    "### <b>Dictionary References</b>\n",
    "\n",
    "> #####  Crack Station - 15 GB dictionary\n",
    ">> -crackstation.txt<br>\n",
    ">> -realhuman_phill.txt<br>\n",
    ">https://crackstation.net/files/crackstation.txt.gz<br>\n",
    ">https://crackstation.net/files/crackstation-human-only.txt.gz<br>\n",
    "> ##### Openwall\n",
    ">> -lower.txt<br>\n",
    ">> -mixed.txt <br>\n",
    ">> -acronym.txt<br>\n",
    ">> -password.txt<br>\n",
    ">> -lower_pwd.txt<br>\n",
    "> https://download.openwall.net/pub/wordlists/\n",
    "\n",
    "\n"
   ]
  },
  {
   "cell_type": "code",
   "execution_count": 27,
   "id": "464a6840-2c7c-4019-bc3a-2ce4f2f57eff",
   "metadata": {},
   "outputs": [
    {
     "name": "stdout",
     "output_type": "stream",
     "text": [
      "Salt:             aB6nkeF0He3imq4AOhbO5kEljbveRpLn\n",
      "First code read:  853cb5e6ee00f1cb4912c89e3dbb9f3d815e9aa574f794422602ec0057386e5a\n"
     ]
    }
   ],
   "source": [
    "#Read in codes to be cracked\n",
    "#Read in salt value\n",
    "codes = []\n",
    "prefix = \"./\"\n",
    "with open(\"./Project Files/hashes.txt\",\"r\") as f:\n",
    "    for line in f:\n",
    "        codes.append(line.strip())\n",
    "with open(\"./Project Files/salt.txt\", \"r\") as f:\n",
    "    salt = f.read().strip()\n",
    "print(\"Salt:            \",salt)\n",
    "print(\"First code read: \",codes[0])"
   ]
  },
  {
   "cell_type": "code",
   "execution_count": 28,
   "id": "73ddbabe-f96a-4ba9-9827-f6f7eb90c470",
   "metadata": {},
   "outputs": [
    {
     "name": "stdout",
     "output_type": "stream",
     "text": [
      "Possible passwords:  64,522,459\n"
     ]
    }
   ],
   "source": [
    "#Create dictionaries, one small and one large\n",
    "mb = []       #mixed - named from one of the file names\n",
    "baf = []      #big ass file\n",
    "\n",
    "file_names = [\"lower.txt\",\"mixed.txt\",\"acronym.txt\",\"password.txt\",\"lower_pwd.txt\"]\n",
    "baf_file = \"realhuman_phill.txt\"\n",
    "for file in file_names:\n",
    "    path =\"./Dictionaries/\"+file\n",
    "    with open(path,\"r\") as f:\n",
    "        for line in f:\n",
    "            mb.append(line.strip())\n",
    "            \n",
    "with open(prefix+\"Dictionaries/\"+baf_file,\"r\",errors='ignore') as f:\n",
    "    for line in f:\n",
    "        baf.append(line.strip())\n",
    "print(\"Possible passwords: \",format(len(baf)+len(mb),',d'))"
   ]
  },
  {
   "cell_type": "code",
   "execution_count": 29,
   "id": "f731497f-ea72-4f77-a55b-107478060ebf",
   "metadata": {},
   "outputs": [],
   "source": [
    "#Create lists to hold cracked passwords\n",
    "cracked = []\n",
    "uncracked = []"
   ]
  },
  {
   "cell_type": "code",
   "execution_count": 30,
   "id": "ad2b1907-29a4-4208-9f6e-da18e7baf70f",
   "metadata": {},
   "outputs": [],
   "source": [
    "import hashlib\n",
    "def hash_password(pwrd):\n",
    "    #Generates hash of original password\n",
    "    salted_password = (pwrd).encode('utf-8')\n",
    "    # hash salted password\n",
    "    hash_value = hashlib.sha256(salted_password).hexdigest()\n",
    "    return hash_value"
   ]
  },
  {
   "cell_type": "code",
   "execution_count": 31,
   "id": "19f2ea32-cdf9-4d8e-9988-5f1beb05826c",
   "metadata": {},
   "outputs": [
    {
     "name": "stdout",
     "output_type": "stream",
     "text": [
      "CRACKING.......\n",
      "password\n",
      "--\n",
      "opo\n",
      "--\n",
      "qwer\n",
      "asdf\n",
      "--\n",
      "--\n",
      "--\n",
      "--\n",
      "abc123\n",
      "--\n",
      "mission\n",
      "admin\n",
      "--\n",
      "--\n",
      "--\n",
      "bob\n",
      "alice\n",
      "nsa\n",
      "--\n",
      "--\n",
      "l33\n",
      "--\n",
      "--\n",
      "--\n",
      "--\n",
      "charliebrown\n",
      "--\n",
      "cxja\n",
      "ew8a\n",
      "--\n",
      "--\n",
      "--\n",
      "derek\n",
      "123456789\n",
      "111111\n",
      "simpsons\n",
      "bigmac\n",
      "catch22\n",
      "171717\n",
      "--\n",
      "--\n",
      "--\n",
      "--\n",
      "--\n",
      "--\n",
      "--\n",
      "--\n",
      "--\n",
      "--\n",
      "tj6j\n",
      "--\n",
      "--\n",
      "--\n",
      "***FINISHED***\n",
      "Process took 29.31 seconds\n"
     ]
    }
   ],
   "source": [
    "from timeit import default_timer as timer\n",
    "print(\"CRACKING.......\")\n",
    "start = timer()\n",
    "for code in codes:\n",
    "    found = False\n",
    "    for val in mb:\n",
    "        guess = hash_password(salt+val)\n",
    "        if guess == code:\n",
    "            print(val)\n",
    "            found = True\n",
    "            cracked.append(code+\": \"+val)\n",
    "            break\n",
    "    if found == False:\n",
    "        print(\"--\")\n",
    "        uncracked.append(code)\n",
    "print(\"***FINISHED***\")\n",
    "end = timer()\n",
    "print(f\"Process took {round(end-start,2)} seconds\")"
   ]
  },
  {
   "cell_type": "code",
   "execution_count": 32,
   "id": "89d9bb6b-8db8-4874-8d00-11a45e7c057c",
   "metadata": {},
   "outputs": [
    {
     "name": "stdout",
     "output_type": "stream",
     "text": [
      "Cracked:    22\n",
      "Uncracked:  33\n"
     ]
    }
   ],
   "source": [
    "print(\"Cracked:   \",len(cracked))\n",
    "print(\"Uncracked: \",len(uncracked))"
   ]
  },
  {
   "cell_type": "code",
   "execution_count": 33,
   "id": "60da99d6-1552-4205-abe1-a30912aded40",
   "metadata": {},
   "outputs": [
    {
     "name": "stdout",
     "output_type": "stream",
     "text": [
      "CRACKING.......\n",
      "p@ssw0rd\n",
      "potato\n",
      "thiv\n",
      "Painting\n",
      "magazine\n",
      "footballgame\n",
      "Queen\n",
      "--\n",
      "--\n",
      "password123\n",
      "DRAGON\n",
      "dogpark\n",
      "--\n",
      "penultimate\n",
      "3339\n",
      "d1ct10n@ry\n",
      "antiestablishmentarianism\n",
      "gooddog\n",
      "Dune\n",
      "scrabble\n",
      "grendel\n",
      "--\n",
      "ghka\n",
      "u\n",
      "np\n",
      "pea\n",
      "aes\n",
      "--\n",
      "Traveler\n",
      "supreme\n",
      "greengrass\n",
      "snow82\n",
      "goodbye\n",
      "**FINISHED**\n",
      "Process took 1355.03 seconds\n"
     ]
    }
   ],
   "source": [
    "#same process but with much bigger password dictionary\n",
    "rem = []\n",
    "print(\"CRACKING.......\")\n",
    "start = timer()\n",
    "for code in uncracked:\n",
    "    found = False\n",
    "    for val in baf:\n",
    "        guess = hash_password(salt+val)\n",
    "        if guess == code:\n",
    "            print(val)\n",
    "            found = True\n",
    "            cracked.append(code+\": \"+val)\n",
    "            break\n",
    "    if found == False:\n",
    "        print(\"--\")\n",
    "        rem.append(code)\n",
    "\n",
    "print(\"**FINISHED**\")\n",
    "end = timer()\n",
    "print(f\"Process took {round(end-start,2)} seconds\")"
   ]
  },
  {
   "cell_type": "code",
   "execution_count": 34,
   "id": "1d6f9e48-13e1-4df9-a5c3-63db36ad5d77",
   "metadata": {},
   "outputs": [
    {
     "name": "stdout",
     "output_type": "stream",
     "text": [
      "Cracked:    50\n",
      "Uncracked:  5\n"
     ]
    }
   ],
   "source": [
    "print(\"Cracked:   \",len(cracked))\n",
    "print(\"Uncracked: \",len(rem))"
   ]
  },
  {
   "cell_type": "code",
   "execution_count": 35,
   "id": "77524477-3af7-4e63-a471-01c2ff25d7c2",
   "metadata": {},
   "outputs": [
    {
     "name": "stdout",
     "output_type": "stream",
     "text": [
      "CRACKING.......\n",
      "@dm1n\n",
      "--\n",
      "--\n",
      "--\n",
      "--\n",
      "**FINISHED**\n",
      "Process took 24.20 min\n"
     ]
    }
   ],
   "source": [
    "#Super massive dictionary, 15 GB\n",
    "#Can't be used as an online source, must be downloaded\n",
    "#This file is left out of the downloaded zip file becauseof its size\n",
    "#For demonstration of this section, I can run it locally\n",
    "\n",
    "fin = []\n",
    "start = timer()\n",
    "print(\"CRACKING.......\")\n",
    "with open(\"./Dictionaries/crackstation.txt\",\"r\", errors=\"ignore\") as f:\n",
    "    for code in rem:\n",
    "        found = False\n",
    "        for line in f:\n",
    "            val = line.strip()\n",
    "            guess = hash_password(salt+val)\n",
    "            if guess == code:\n",
    "                print(val)\n",
    "                found = True\n",
    "                cracked.append(code+\": \"+val)\n",
    "                break\n",
    "        if found == False:\n",
    "            print(\"--\")\n",
    "            fin.append(code)\n",
    "print(\"**FINISHED**\")\n",
    "end = timer()\n",
    "elapsed = end-start\n",
    "\n",
    "print(f\"Process took {int(elapsed/60)}.{int(elapsed%60,)} min\")"
   ]
  },
  {
   "cell_type": "code",
   "execution_count": 36,
   "id": "60661bfe-7ec4-46e1-a731-399d5371ef28",
   "metadata": {},
   "outputs": [
    {
     "name": "stdout",
     "output_type": "stream",
     "text": [
      "Cracked:    51\n",
      "Uncracked:  4\n"
     ]
    }
   ],
   "source": [
    "print(\"Cracked:   \",len(cracked))\n",
    "print(\"Uncracked: \",len(fin))"
   ]
  },
  {
   "cell_type": "code",
   "execution_count": 37,
   "id": "a5879ad1-8f2e-4e9a-9ac5-ce30e128d124",
   "metadata": {},
   "outputs": [],
   "source": [
    "#Brute Force Algorithm\n",
    "def make_next_guess(guess):\n",
    "    carry = 1\n",
    "    next_guess = guess\n",
    "\n",
    "    for i in range(len(guess)):\n",
    "        cur_char = ord(guess[i]) + carry\n",
    "        if cur_char > ord('z'):\n",
    "            cur_char = ord('A')\n",
    "            carry = 1\n",
    "        else:\n",
    "            carry = 0\n",
    "        next_guess = next_guess[:i] + chr(cur_char) + guess[i + 1:]\n",
    "        if carry == 0:\n",
    "             break\n",
    "    if carry == 1:\n",
    "        next_guess += 'A'\n",
    "\n",
    "    return next_guess"
   ]
  },
  {
   "cell_type": "code",
   "execution_count": null,
   "id": "8e9a2df1-33a2-4dcc-aac7-76f40261ed4e",
   "metadata": {},
   "outputs": [
    {
     "name": "stdout",
     "output_type": "stream",
     "text": [
      "CRACKING.......\n",
      "\n",
      "Decoding:  26d95d4fe16b19533e1684192d212df6892b5cf4b73693abbc1df2e232782f18\n",
      "Process took too long(120.0 min).../nMoving on to next code\n",
      "--\n",
      "Decoding:  bf17e8071f40c960493d97dfe86a6dbb68b5fb2e26f6ee530a85cb9424a6ea7e\n",
      "Process took too long(120.0 min).../nMoving on to next code\n",
      "--\n",
      "Decoding:  904d24eb73f3d3a4bfc0d2ac6386962b54688b75798cbfea28cfc699093bb1ce\n"
     ]
    }
   ],
   "source": [
    "guess = 'A'\n",
    "print(\"CRACKING.......\"+'\\n')\n",
    "for code in fin:\n",
    "    start = timer()  \n",
    "    print(\"Decoding: \",code)\n",
    "    for i in range(58 ** 6): #password maximum length 6 and there are 58 characters that can be used\n",
    "        found = False\n",
    "        if hash_password(salt+guess) == code:\n",
    "            cracked.append(code+\": \"+guess)\n",
    "            print(guess)\n",
    "            found = True\n",
    "            break\n",
    "        guess = make_next_guess(guess)\n",
    "        end = timer()\n",
    "        elapsed = end-start\n",
    "        if elapsed > 7200: #2hrs\n",
    "            print(f\"Process took too long({int(elapsed/60)}.{int(elapsed%60)} min)...\\nMoving on to next code\")\n",
    "            break\n",
    "    if found == False:\n",
    "        print(\"--\")"
   ]
  },
  {
   "cell_type": "code",
   "execution_count": null,
   "id": "c07888a9-f54c-49dc-8bcb-4da9b4a680fc",
   "metadata": {},
   "outputs": [],
   "source": [
    "print(f\"{len(codes)-len(cracked)} codes not cracked\")"
   ]
  },
  {
   "cell_type": "code",
   "execution_count": null,
   "id": "9487b15b-242d-4a7e-8a8b-992db0680de0",
   "metadata": {},
   "outputs": [],
   "source": [
    "#Write results to file\n",
    "f = open('results.txt',\"w\")\n",
    "for x in cracked:\n",
    "        f.write(x+'\\n')\n",
    "for code in fin:\n",
    "    f.write(code+\": \\n\")\n",
    "f.close()"
   ]
  }
 ],
 "metadata": {
  "kernelspec": {
   "display_name": "Python 3 (ipykernel)",
   "language": "python",
   "name": "python3"
  },
  "language_info": {
   "codemirror_mode": {
    "name": "ipython",
    "version": 3
   },
   "file_extension": ".py",
   "mimetype": "text/x-python",
   "name": "python",
   "nbconvert_exporter": "python",
   "pygments_lexer": "ipython3",
   "version": "3.9.15"
  }
 },
 "nbformat": 4,
 "nbformat_minor": 5
}
